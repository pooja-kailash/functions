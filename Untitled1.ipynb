{
  "nbformat": 4,
  "nbformat_minor": 0,
  "metadata": {
    "colab": {
      "provenance": []
    },
    "kernelspec": {
      "name": "python3",
      "display_name": "Python 3"
    },
    "language_info": {
      "name": "python"
    }
  },
  "cells": [
    {
      "cell_type": "markdown",
      "source": [],
      "metadata": {
        "id": "tAIGPNtw_JOJ"
      }
    },
    {
      "cell_type": "markdown",
      "source": [],
      "metadata": {
        "id": "1tG8RWgR_MOf"
      }
    },
    {
      "cell_type": "markdown",
      "source": [
        "#functions\n"
      ],
      "metadata": {
        "id": "iX-o713X_VrX"
      }
    },
    {
      "cell_type": "markdown",
      "source": [
        "1. what is question\n",
        "   - this is answer\n",
        "2. second question\n",
        "  - answer\n",
        "\n",
        "\n",
        "     "
      ],
      "metadata": {
        "id": "2kRPDNf__cn_"
      }
    },
    {
      "cell_type": "code",
      "source": [
        "'''\n",
        "'''\n",
        "\"functions\"\n",
        "'''\n",
        "'''\n"
      ],
      "metadata": {
        "colab": {
          "base_uri": "https://localhost:8080/",
          "height": 36
        },
        "id": "vpMmX-TR_8FI",
        "outputId": "4d1ae983-4a6a-4b34-d041-5338ef5c84d1"
      },
      "execution_count": 7,
      "outputs": [
        {
          "output_type": "execute_result",
          "data": {
            "text/plain": [
              "'\\n'"
            ],
            "application/vnd.google.colaboratory.intrinsic+json": {
              "type": "string"
            }
          },
          "metadata": {},
          "execution_count": 7
        }
      ]
    }
  ]
}